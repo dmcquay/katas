{
 "cells": [
  {
   "cell_type": "code",
   "execution_count": 14,
   "metadata": {},
   "outputs": [],
   "source": [
    "import polars as pl\n",
    "from polars.datatypes import Struct, List, DataType"
   ]
  },
  {
   "cell_type": "code",
   "execution_count": 20,
   "metadata": {},
   "outputs": [
    {
     "data": {
      "text/plain": [
       "Schema([('data',\n",
       "         Struct({'object': Struct({'_rs_other_ids': List(Struct({'chan': String, 'id': String, 'type': String})), 'dateLastModified': String, 'enabledUser': String, 'familyName': String, 'givenName': String, 'grades': List(String), 'identifier': String, 'metadata': Struct({'school_enrollment.district_of_residence': String, 'school_enrollment.enroll_status': String, 'school_enrollment.enroll_status_code': Int64, 'school_enrollment.enroll_status_description': String, 'school_enrollment.entry_code': String, 'school_enrollment.entry_comment': String, 'school_enrollment.entry_date': String, 'school_enrollment.exit_date': String, 'school_enrollment.full_time_equivalency.fteid': Int64, 'school_enrollment.full_time_equivalency.name': String, 'school_enrollment.grade_level': Int64, 'school_enrollment.school_number': String, 'birthdate': String}), 'middleName': String, 'orgs': List(Struct({'href': String, 'sourcedId': String, 'type': String})), 'role': String, 'sourcedId': String, 'status': String, 'userIds': List(Struct({'identifier': String, 'type': String})), 'username': String, 'email': String}), 'old': Struct({'_rs_other_ids': List(Struct({'chan': String, 'id': String, 'type': String})), 'dateLastModified': String, 'enabledUser': String, 'familyName': String, 'givenName': String, 'grades': List(String), 'identifier': String, 'metadata': Struct({'school_enrollment.district_of_residence': String, 'school_enrollment.enroll_status': String, 'school_enrollment.enroll_status_code': Int64, 'school_enrollment.enroll_status_description': String, 'school_enrollment.entry_code': String, 'school_enrollment.entry_comment': String, 'school_enrollment.entry_date': String, 'school_enrollment.exit_date': String, 'school_enrollment.full_time_equivalency.fteid': Int64, 'school_enrollment.full_time_equivalency.name': String, 'school_enrollment.grade_level': Int64, 'school_enrollment.school_number': String, 'birthdate': String, 'stateId': Null}), 'middleName': String, 'orgs': List(Struct({'href': String, 'sourcedId': String, 'type': String})), 'role': String, 'sourcedId': String, 'status': String, 'userIds': List(Struct({'identifier': String, 'type': String})), 'username': String, 'email': String})}))])"
      ]
     },
     "execution_count": 20,
     "metadata": {},
     "output_type": "execute_result"
    }
   ],
   "source": [
    "df = pl.scan_ndjson(\"BQ Results Apr 18 2025.jsonl\")#.collect()\n",
    "schema = df.collect_schema()\n",
    "schema\n"
   ]
  },
  {
   "cell_type": "code",
   "execution_count": 17,
   "metadata": {},
   "outputs": [
    {
     "ename": "ImportError",
     "evalue": "cannot import name 'get_fields' from 'polars.datatypes' (/Users/dmcquay/repos/katas/2025/2025-04-18-derive-schema/.venv/lib/python3.13/site-packages/polars/datatypes/__init__.py)",
     "output_type": "error",
     "traceback": [
      "\u001b[31m---------------------------------------------------------------------------\u001b[39m",
      "\u001b[31mImportError\u001b[39m                               Traceback (most recent call last)",
      "\u001b[36mCell\u001b[39m\u001b[36m \u001b[39m\u001b[32mIn[17]\u001b[39m\u001b[32m, line 1\u001b[39m\n\u001b[32m----> \u001b[39m\u001b[32m1\u001b[39m \u001b[38;5;28;01mfrom\u001b[39;00m\u001b[38;5;250m \u001b[39m\u001b[34;01mpolars\u001b[39;00m\u001b[34;01m.\u001b[39;00m\u001b[34;01mdatatypes\u001b[39;00m\u001b[38;5;250m \u001b[39m\u001b[38;5;28;01mimport\u001b[39;00m Struct, List, DataType, get_fields\n\u001b[32m      3\u001b[39m \u001b[38;5;28;01mdef\u001b[39;00m\u001b[38;5;250m \u001b[39m\u001b[34mhuman_readable_dtype\u001b[39m(dtype: DataType):\n\u001b[32m      4\u001b[39m     \u001b[38;5;28;01mif\u001b[39;00m pl.datatypes.is_struct(dtype):\n",
      "\u001b[31mImportError\u001b[39m: cannot import name 'get_fields' from 'polars.datatypes' (/Users/dmcquay/repos/katas/2025/2025-04-18-derive-schema/.venv/lib/python3.13/site-packages/polars/datatypes/__init__.py)"
     ]
    }
   ],
   "source": [
    "# from polars.datatypes import Struct, List, DataType, get_fields\n",
    "\n",
    "def human_readable_dtype(dtype: DataType):\n",
    "    if pl.datatypes.is_struct(dtype):\n",
    "        return {\n",
    "            \"Struct\": {\n",
    "                field.name: human_readable_dtype(field.dtype)\n",
    "                for field in get_fields(dtype)\n",
    "            }\n",
    "        }\n",
    "    elif pl.datatypes.is_list(dtype):\n",
    "        return {\n",
    "            \"List\": human_readable_dtype(dtype.inner)\n",
    "        }\n",
    "    else:\n",
    "        return str(dtype)\n",
    "\n",
    "def extract_full_schema(schema: dict[str, DataType]):\n",
    "    return {\n",
    "        column: human_readable_dtype(dtype)\n",
    "        for column, dtype in schema.items()\n",
    "    }\n",
    "\n",
    "# Example usage\n",
    "# df = pl.read_ndjson(\"yourfile.jsonl\")\n",
    "# full_schema = extract_full_schema(schema)\n",
    "\n",
    "# Print pretty\n",
    "import json\n",
    "# print(json.dumps(full_schema, indent=2))\n",
    "\n",
    "schema\n"
   ]
  },
  {
   "cell_type": "markdown",
   "metadata": {},
   "source": [
    "Schema([('data',\n",
    "         Struct({'object': Struct({'_rs_other_ids': List(Struct({'chan': String, 'id': String, 'type': String})), 'dateLastModified': String, 'enabledUser': String, 'familyName': String, 'givenName': String, 'grades': List(String), 'identifier': String, 'metadata': Struct({'school_enrollment.district_of_residence': String, 'school_enrollment.enroll_status': String, 'school_enrollment.enroll_status_code': Int64, 'school_enrollment.enroll_status_description': String, 'school_enrollment.entry_code': String, 'school_enrollment.entry_comment': String, 'school_enrollment.entry_date': String, 'school_enrollment.exit_date': String, 'school_enrollment.full_time_equivalency.fteid': Int64, 'school_enrollment.full_time_equivalency.name': String, 'school_enrollment.grade_level': Int64, 'school_enrollment.school_number': String, 'birthdate': String}), 'middleName': String, 'orgs': List(Struct({'href': String, 'sourcedId': String, 'type': String})), 'role': String, 'sourcedId': String, 'status': String, 'userIds': List(Struct({'identifier': String, 'type': String})), 'username': String, 'email': String}), 'old': Struct({'_rs_other_ids': List(Struct({'chan': String, 'id': String, 'type': String})), 'dateLastModified': String, 'enabledUser': String, 'familyName': String, 'givenName': String, 'grades': List(String), 'identifier': String, 'metadata': Struct({'school_enrollment.district_of_residence': String, 'school_enrollment.enroll_status': String, 'school_enrollment.enroll_status_code': Int64, 'school_enrollment.enroll_status_description': String, 'school_enrollment.entry_code': String, 'school_enrollment.entry_comment': String, 'school_enrollment.entry_date': String, 'school_enrollment.exit_date': String, 'school_enrollment.full_time_equivalency.fteid': Int64, 'school_enrollment.full_time_equivalency.name': String, 'school_enrollment.grade_level': Int64, 'school_enrollment.school_number': String, 'birthdate': String, 'stateId': Null}), 'middleName': String, 'orgs': List(Struct({'href': String, 'sourcedId': String, 'type': String})), 'role': String, 'sourcedId': String, 'status': String, 'userIds': List(Struct({'identifier': String, 'type': String})), 'username': String, 'email': String})}))])"
   ]
  },
  {
   "cell_type": "markdown",
   "metadata": {},
   "source": [
    "data: Struct\n",
    "  object: Struct\n",
    "    _rs_other_ids: List of Struct\n",
    "      chan: String\n",
    "      id: String\n",
    "      type: String\n",
    "    dateLastModified: String\n",
    "    enabledUser: String\n",
    "    familyName: String\n",
    "    givenName: String\n",
    "    grades: List of String\n",
    "    identifier: String\n",
    "    metadata: Struct\n",
    "      school_enrollment.district_of_residence: String\n",
    "      school_enrollment.enroll_status: String\n",
    "      school_enrollment.enroll_status_code: Int64\n",
    "      school_enrollment.enroll_status_description: String\n",
    "      school_enrollment.entry_code: String\n",
    "      school_enrollment.entry_comment: String\n",
    "      school_enrollment.entry_date: String\n",
    "      school_enrollment.exit_date: String\n",
    "      school_enrollment.full_time_equivalency.fteid: Int64\n",
    "      school_enrollment.full_time_equivalency.name: String\n",
    "      school_enrollment.grade_level: Int64\n",
    "      school_enrollment.school_number: String\n",
    "      birthdate: String\n",
    "    middleName: String\n",
    "    orgs: List of Struct\n",
    "      href: String\n",
    "      sourcedId: String\n",
    "      type: String\n",
    "    role: String\n",
    "    sourcedId: String\n",
    "    status: String\n",
    "    userIds: List of Struct\n",
    "      identifier: String\n",
    "      type: String\n",
    "    username: String\n",
    "    email: String\n",
    "  old: Struct\n",
    "    _rs_other_ids: List of Struct\n",
    "      chan: String\n",
    "      id: String\n",
    "      type: String\n",
    "    dateLastModified: String\n",
    "    enabledUser: String\n",
    "    familyName: String\n",
    "    givenName: String\n",
    "    grades: List of String\n",
    "    identifier: String\n",
    "    metadata: Struct\n",
    "      school_enrollment.district_of_residence: String\n",
    "      school_enrollment.enroll_status: String\n",
    "      school_enrollment.enroll_status_code: Int64\n",
    "      school_enrollment.enroll_status_description: String\n",
    "      school_enrollment.entry_code: String\n",
    "      school_enrollment.entry_comment: String\n",
    "      school_enrollment.entry_date: String\n",
    "      school_enrollment.exit_date: String\n",
    "      school_enrollment.full_time_equivalency.fteid: Int64\n",
    "      school_enrollment.full_time_equivalency.name: String\n",
    "      school_enrollment.grade_level: Int64\n",
    "      school_enrollment.school_number: String\n",
    "      birthdate: String\n",
    "      stateId: Null\n",
    "    middleName: String\n",
    "    orgs: List of Struct\n",
    "      href: String\n",
    "      sourcedId: String\n",
    "      type: String\n",
    "    role: String\n",
    "    sourcedId: String\n",
    "    status: String\n",
    "    userIds: List of Struct\n",
    "      identifier: String\n",
    "      type: String\n",
    "    username: String\n",
    "    email: String\n"
   ]
  },
  {
   "cell_type": "code",
   "execution_count": 24,
   "metadata": {},
   "outputs": [
    {
     "data": {
      "text/plain": [
       "Schema([('data',\n",
       "         Struct({'old': Struct({'_rs_other_ids': List(Struct({'chan': String, 'id': String, 'type': String})), 'dateLastModified': String, 'email': String, 'enabledUser': String, 'familyName': String, 'givenName': String, 'grades': List(String), 'identifier': String, 'metadata': Struct({'school_enrollment.district_of_residence': String, 'school_enrollment.enroll_status': String, 'school_enrollment.enroll_status_code': Int64, 'school_enrollment.enroll_status_description': String, 'school_enrollment.entry_code': String, 'school_enrollment.entry_comment': String, 'school_enrollment.entry_date': String, 'school_enrollment.exit_date': String, 'school_enrollment.full_time_equivalency.fteid': Int64, 'school_enrollment.full_time_equivalency.name': String, 'school_enrollment.grade_level': Int64, 'school_enrollment.school_number': String, 'birthdate': String, 'skyward.StudentIDNumber': String, 'skyward.UIC': String, 'tenant_id': String, 'tenant_type': String, 'advisor': Struct({'firstName': String, 'lastName': String}), 'counselor': Struct({'firstName': String, 'lastName': String}), 'homeroom': String, 'stateId': Null, 'StateStudentNumber': String, 'datasource_id': String, 'address1': String, 'skyward.TeacherPICNumber': String}), 'middleName': String, 'orgs': List(Struct({'href': String, 'sourcedId': String, 'type': String})), 'role': String, 'sourcedId': String, 'status': String, 'username': String, 'agents': List(Struct({'href': String, 'sourcedId': String, 'type': String})), 'userIds': List(Struct({'identifier': String, 'type': String})), 'phone': String, 'password': String, 'sms': String}), 'object': Struct({'_rs_other_ids': List(Struct({'chan': String, 'id': String, 'type': String})), 'dateLastModified': String, 'email': String, 'enabledUser': String, 'familyName': String, 'givenName': String, 'grades': List(String), 'identifier': String, 'middleName': String, 'orgs': List(Struct({'href': String, 'sourcedId': String, 'type': String})), 'role': String, 'sourcedId': String, 'status': String, 'userIds': List(Struct({'identifier': String, 'type': String})), 'username': String, 'metadata': Struct({'school_enrollment.district_of_residence': String, 'school_enrollment.enroll_status': String, 'school_enrollment.enroll_status_code': Int64, 'school_enrollment.enroll_status_description': String, 'school_enrollment.entry_code': String, 'school_enrollment.entry_comment': String, 'school_enrollment.entry_date': String, 'school_enrollment.exit_date': String, 'school_enrollment.full_time_equivalency.fteid': Int64, 'school_enrollment.full_time_equivalency.name': String, 'school_enrollment.grade_level': Int64, 'school_enrollment.school_number': String, 'birthdate': String, 'stateId': Null, 'skyward.StudentIDNumber': String, 'skyward.UIC': String, 'tenant_id': String, 'tenant_type': String, 'advisor': Struct({'firstName': String, 'lastName': String}), 'counselor': Struct({'firstName': String, 'lastName': String}), 'homeroom': String, 'StateStudentNumber': String, 'skyward.TeacherPICNumber': String, 'title': String, 'address1': String, 'city': String, 'grade': String, 'postCode': String, 'state': String, 'address2': String, 'teacher_legacy_id': String, 'staff_legacy_id': String, 'admin_legacy_id': String, 'other_roles': Struct({'aide': Struct({'identifier': String, 'metadata': Struct({'staff_legacy_id': String}), 'orgs': List(Struct({'href': String, 'sourcedId': String, 'type': String})), 'role': String, 'userIds': List(Struct({'identifier': String, 'type': String})), 'username': String})}), '504': String, 'birthcountry': String, 'datecametous': String, 'districtenrollmentdate': String, 'el_enterdate': String, 'el_exitdate': String, 'el_parentdeniedpermissiondate': String, 'elstatus': String, 'nativelanguage': String, 'zipcode': String, 'clever.relationships': List(Struct({'relationship': String, 'student': String, 'type': String})), 'contact_legacy_id': String}), 'agents': List(Struct({'href': String, 'sourcedId': String, 'type': String})), 'phone': String, 'sms': String, 'password': String})}))])"
      ]
     },
     "execution_count": 24,
     "metadata": {},
     "output_type": "execute_result"
    }
   ],
   "source": [
    "df = pl.scan_ndjson(\"BQ Results Apr 18 2025 ALL.jsonl\", infer_schema_length=None)\n",
    "schema = df.collect_schema()\n",
    "schema"
   ]
  },
  {
   "cell_type": "code",
   "execution_count": 25,
   "metadata": {},
   "outputs": [
    {
     "data": {
      "text/plain": [
       "Schema([('data',\n",
       "         Struct({'old': Struct({'_rs_other_ids': List(Struct({'chan': String, 'id': String, 'type': String})), 'beginDate': String, 'class': Struct({'href': String, 'sourcedId': String, 'type': String}), 'dateLastModified': String, 'endDate': String, 'metadata': Struct({'ic_indexSuffix': String, 'groupCode': String, 'dropped': Boolean, 'tenant_id': String, 'tenant_type': String}), 'primary': String, 'role': String, 'school': Struct({'href': String, 'sourcedId': String, 'type': String}), 'sourcedId': String, 'status': String, 'user': Struct({'href': String, 'sourcedId': String, 'type': String})}), 'object': Struct({'_rs_other_ids': List(Struct({'chan': String, 'id': String, 'type': String})), 'beginDate': String, 'class': Struct({'href': String, 'sourcedId': String, 'type': String}), 'dateLastModified': String, 'endDate': String, 'metadata': Struct({'ic_indexSuffix': String, 'groupCode': String, 'dropped': Boolean, 'tenant_id': String, 'tenant_type': String}), 'primary': String, 'role': String, 'school': Struct({'href': String, 'sourcedId': String, 'type': String}), 'sourcedId': String, 'status': String, 'user': Struct({'href': String, 'sourcedId': String, 'type': String})})}))])"
      ]
     },
     "execution_count": 25,
     "metadata": {},
     "output_type": "execute_result"
    }
   ],
   "source": [
    "df = pl.scan_ndjson(\"data/enrollments.jsonl\", infer_schema_length=None)\n",
    "schema = df.collect_schema()\n",
    "schema"
   ]
  }
 ],
 "metadata": {
  "kernelspec": {
   "display_name": ".venv",
   "language": "python",
   "name": "python3"
  },
  "language_info": {
   "codemirror_mode": {
    "name": "ipython",
    "version": 3
   },
   "file_extension": ".py",
   "mimetype": "text/x-python",
   "name": "python",
   "nbconvert_exporter": "python",
   "pygments_lexer": "ipython3",
   "version": "3.13.2"
  }
 },
 "nbformat": 4,
 "nbformat_minor": 2
}
